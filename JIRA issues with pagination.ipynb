{
 "cells": [
  {
   "cell_type": "markdown",
   "id": "9de61a44-ad54-48c5-a080-b3e2aeaeab01",
   "metadata": {},
   "source": [
    "### Library installation "
   ]
  },
  {
   "cell_type": "code",
   "execution_count": 6,
   "id": "259df247-9ffc-435e-bdfe-c1fc615f7258",
   "metadata": {
    "execution": {
     "iopub.execute_input": "2024-05-10T11:04:05.222311Z",
     "iopub.status.busy": "2024-05-10T11:04:05.214738Z",
     "iopub.status.idle": "2024-05-10T11:04:05.315690Z",
     "shell.execute_reply": "2024-05-10T11:04:05.313145Z",
     "shell.execute_reply.started": "2024-05-10T11:04:05.220737Z"
    }
   },
   "outputs": [],
   "source": [
    "import requests\n",
    "from requests.auth import HTTPBasicAuth\n",
    "import json\n",
    "import pandas as pd\n",
    "import keyring\n",
    "import datetime\n",
    "import os"
   ]
  },
  {
   "cell_type": "markdown",
   "id": "1b0d5aea-338a-4c06-b21e-c206b5096648",
   "metadata": {},
   "source": [
    "### Jira detailas and credentials"
   ]
  },
  {
   "cell_type": "code",
   "execution_count": 7,
   "id": "d18aa674-54b1-426c-a6a1-7ab433b3da65",
   "metadata": {
    "execution": {
     "iopub.execute_input": "2024-05-10T11:04:05.319732Z",
     "iopub.status.busy": "2024-05-10T11:04:05.319732Z",
     "iopub.status.idle": "2024-05-10T11:04:05.354335Z",
     "shell.execute_reply": "2024-05-10T11:04:05.353316Z",
     "shell.execute_reply.started": "2024-05-10T11:04:05.319732Z"
    }
   },
   "outputs": [],
   "source": [
    "jira_domain = 'https://forgeholidays.atlassian.net/'\n",
    "email = 'deepankar.srigyan@sykescottages.co.uk'\n",
    "project_key = 'DAB ORDER BY created DESC'\n",
    "\n",
    "#Credential needs to be stored in window credential before running this.\n",
    "api_token = keyring.get_password('JIRA_API', 'deepankar.srigyan@sykescottages.co.uk')"
   ]
  },
  {
   "cell_type": "markdown",
   "id": "e7325f6e-aab4-4ecd-8ece-ea9bb22e84fe",
   "metadata": {},
   "source": [
    "### Date to prefix on file name"
   ]
  },
  {
   "cell_type": "code",
   "execution_count": 8,
   "id": "c4d6b9ef-1a15-40de-ad55-08360e0c305f",
   "metadata": {
    "execution": {
     "iopub.execute_input": "2024-05-10T11:04:05.355336Z",
     "iopub.status.busy": "2024-05-10T11:04:05.355336Z",
     "iopub.status.idle": "2024-05-10T11:04:05.362093Z",
     "shell.execute_reply": "2024-05-10T11:04:05.361087Z",
     "shell.execute_reply.started": "2024-05-10T11:04:05.355336Z"
    }
   },
   "outputs": [],
   "source": [
    "# Required to put datetime in the start of the file name\n",
    "import datetime\n",
    "from datetime import date"
   ]
  },
  {
   "cell_type": "code",
   "execution_count": 9,
   "id": "6a62082e-89a9-4a26-8b76-68b3e586b6f3",
   "metadata": {
    "execution": {
     "iopub.execute_input": "2024-05-10T11:04:05.363101Z",
     "iopub.status.busy": "2024-05-10T11:04:05.363101Z",
     "iopub.status.idle": "2024-05-10T11:04:05.369796Z",
     "shell.execute_reply": "2024-05-10T11:04:05.368774Z",
     "shell.execute_reply.started": "2024-05-10T11:04:05.363101Z"
    }
   },
   "outputs": [],
   "source": [
    "today = date.today()\n",
    "date_prefix = today.strftime(\"%Y%m%d\")  # Format the date as YYYYMMDD"
   ]
  },
  {
   "cell_type": "markdown",
   "id": "a3b26579-7023-446b-ab92-c30c812036af",
   "metadata": {},
   "source": [
    "### Scraping the data from Jira with the help of JIRA API\n",
    "#### Doing pagination by the loop as JIRA has limit to extract 100 issues at once only.\n",
    "#### File exported in Excel"
   ]
  },
  {
   "cell_type": "code",
   "execution_count": 10,
   "id": "ba4dbc58-cbb8-4df4-af61-ca3ac53c1c62",
   "metadata": {
    "execution": {
     "iopub.execute_input": "2024-05-10T11:04:05.376505Z",
     "iopub.status.busy": "2024-05-10T11:04:05.375501Z",
     "iopub.status.idle": "2024-05-10T11:05:09.736535Z",
     "shell.execute_reply": "2024-05-10T11:05:09.735530Z",
     "shell.execute_reply.started": "2024-05-10T11:04:05.376505Z"
    }
   },
   "outputs": [
    {
     "name": "stdout",
     "output_type": "stream",
     "text": [
      "Fetched 100 issues, total fetched: 100\n",
      "Fetched 100 issues, total fetched: 200\n",
      "Fetched 100 issues, total fetched: 300\n",
      "Fetched 100 issues, total fetched: 400\n",
      "Fetched 100 issues, total fetched: 500\n",
      "Fetched 100 issues, total fetched: 600\n",
      "Fetched 100 issues, total fetched: 700\n",
      "Fetched 100 issues, total fetched: 800\n",
      "Fetched 100 issues, total fetched: 900\n",
      "Fetched 100 issues, total fetched: 1000\n",
      "Fetched 100 issues, total fetched: 1100\n",
      "Fetched 100 issues, total fetched: 1200\n",
      "Fetched 100 issues, total fetched: 1300\n",
      "Fetched 100 issues, total fetched: 1400\n",
      "Fetched 100 issues, total fetched: 1500\n",
      "Fetched 59 issues, total fetched: 1559\n",
      "Total issues fetched: 1559\n",
      "Issues have been saved to C:\\Users\\DeepankarSrigyan\\OneDrive - Sykes Cottages Ltd\\Documents - Data & Analytics\\Insight team\\1. Admin\\4. Internal reporting\\1. Jira\\20240510_jira_issues.csv\n"
     ]
    }
   ],
   "source": [
    "import requests\n",
    "from requests.auth import HTTPBasicAuth\n",
    "import os\n",
    "import pandas as pd\n",
    "\n",
    "# Ensure the JIRA domain starts with 'https://'\n",
    "if not jira_domain.startswith('https://'):\n",
    "    jira_domain = 'https://' + jira_domain\n",
    "\n",
    "# Create JIRA API URL\n",
    "url = f\"{jira_domain}/rest/api/3/search\"\n",
    "\n",
    "# Initialize variables for pagination\n",
    "start_at = 0\n",
    "max_results = 100  # Set to the maximum typically allowed by JIRA\n",
    "total_issues_fetched = 0\n",
    "all_issues = []\n",
    "\n",
    "# Loop to fetch issues in pages\n",
    "while True:\n",
    "    query = {\n",
    "        'jql': f'project={project_key}',\n",
    "        'startAt': start_at * max_results,  # Adjusted for pagination\n",
    "        'maxResults': max_results\n",
    "    }\n",
    "\n",
    "    try:\n",
    "        response = requests.get(\n",
    "            url,\n",
    "            headers={'Content-Type': 'application/json'},\n",
    "            params=query,\n",
    "            auth=HTTPBasicAuth(email, api_token),\n",
    "            verify=True  # Consider setting this to True once SSL certificates are configured\n",
    "        )\n",
    "        response.raise_for_status()\n",
    "        response_data = response.json()\n",
    "        issues = response_data['issues']\n",
    "        all_issues.extend(issues)\n",
    "        total_issues_fetched += len(issues)\n",
    "        print(f'Fetched {len(issues)} issues, total fetched: {total_issues_fetched}')\n",
    "        if len(issues) < max_results:\n",
    "            break  # Exit the loop if the last page of issues is fetched\n",
    "        else:\n",
    "            start_at += 1  # Move to the next page\n",
    "    except requests.exceptions.RequestException as e:\n",
    "        print(f'An error occurred: {e}')\n",
    "        break\n",
    "\n",
    "# Convert to DataFrame\n",
    "df_issues = pd.json_normalize(all_issues)\n",
    "\n",
    "# Construct the file name with the date prefix\n",
    "path = r\"C:\\Users\\DeepankarSrigyan\\OneDrive - Sykes Cottages Ltd\\Documents - Data & Analytics\\Insight team\\1. Admin\\4. Internal reporting\\1. Jira\"\n",
    "file_name = os.path.join(path, f\"{date_prefix}_jira_issues.csv\")\n",
    "\n",
    "# Save the DataFrame to a CSV file\n",
    "df_issues.to_csv(file_name, index=False)\n",
    "\n",
    "print(f'Total issues fetched: {total_issues_fetched}')\n",
    "print(f'Issues have been saved to {file_name}')"
   ]
  },
  {
   "cell_type": "markdown",
   "id": "2af8c249-289c-4179-bad6-0da1b440a815",
   "metadata": {},
   "source": [
    "#### End"
   ]
  }
 ],
 "metadata": {
  "kernelspec": {
   "display_name": "Python 3 (ipykernel)",
   "language": "python",
   "name": "python3"
  },
  "language_info": {
   "codemirror_mode": {
    "name": "ipython",
    "version": 3
   },
   "file_extension": ".py",
   "mimetype": "text/x-python",
   "name": "python",
   "nbconvert_exporter": "python",
   "pygments_lexer": "ipython3",
   "version": "3.12.2"
  }
 },
 "nbformat": 4,
 "nbformat_minor": 5
}
